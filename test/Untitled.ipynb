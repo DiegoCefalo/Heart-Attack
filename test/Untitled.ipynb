{
 "cells": [
  {
   "cell_type": "code",
   "execution_count": 108,
   "id": "87673d90-e442-49be-916e-4bc67b8ec0a6",
   "metadata": {},
   "outputs": [],
   "source": [
    "from selenium import webdriver\n",
    "from selenium.webdriver.chrome.options import Options\n",
    "from selenium.webdriver.common.keys import Keys\n",
    "import time"
   ]
  },
  {
   "cell_type": "code",
   "execution_count": 198,
   "id": "3898f355-c31c-468b-b7e5-aeaf95c6713a",
   "metadata": {},
   "outputs": [],
   "source": [
    "options = Options()\n",
    "options.add_argument('--no-sandbox')\n",
    "driver = webdriver.Chrome(options=options)"
   ]
  },
  {
   "cell_type": "code",
   "execution_count": 199,
   "id": "80bc86e2-879d-4263-bb09-8792bf381e84",
   "metadata": {},
   "outputs": [],
   "source": [
    "driver.get(\"http://localhost:8501/\")"
   ]
  },
  {
   "cell_type": "code",
   "execution_count": 200,
   "id": "4807b2be-b469-4362-a638-e7bbfe4f4cf6",
   "metadata": {},
   "outputs": [],
   "source": [
    "age = driver.find_element_by_css_selector(\"#root > div:nth-child(1) > div > div > div > div > section > div > div:nth-child(1) > div:nth-child(3) > div > div.css-1nnn0hm.e1jwn65y0 > div.st-bc.st-b4.st-bd.st-b7.st-be.st-bf.st-bg.st-bh.st-bi.st-bj.st-bk.st-bl.st-bm.st-b2.st-bn.st-av.st-ay.st-bo.st-bp.st-ae.st-af.st-ag.st-ah.st-ai.st-aj.st-bq.st-br.st-bs.st-bt.st-bu.st-bv.st-bw > div > input\")"
   ]
  },
  {
   "cell_type": "code",
   "execution_count": 201,
   "id": "3f43026e-0ac1-4e2d-8f9d-f0f6d02a203f",
   "metadata": {},
   "outputs": [],
   "source": [
    "age.send_keys(46)"
   ]
  },
  {
   "cell_type": "code",
   "execution_count": 231,
   "id": "83d1d741-9dbc-41ad-a8be-36ee757ea0e0",
   "metadata": {},
   "outputs": [],
   "source": [
    "sex = driver.find_element_by_css_selector(\"#root > div:nth-child(1) > div > div > div > div > section > div > div:nth-child(1) > div:nth-child(4) > div > div > label:nth-child(2) > div.st-co.st-df.st-ct.st-cu.st-cv.st-cw.st-az.st-b4.st-cx.st-cy.st-cz.st-d0.st-d1.st-d2.st-c8.st-d3.st-d4.st-d5.st-b2.st-bn > div\")"
   ]
  },
  {
   "cell_type": "code",
   "execution_count": 232,
   "id": "e17ebe40-5368-4e1d-a06f-657cd7db928b",
   "metadata": {},
   "outputs": [],
   "source": [
    "sex.click()"
   ]
  },
  {
   "cell_type": "code",
   "execution_count": 204,
   "id": "dbf7f5c6-cbc5-4bc9-a757-019f1ab36301",
   "metadata": {},
   "outputs": [],
   "source": [
    "pain = driver.find_element_by_css_selector(\"#root > div:nth-child(1) > div > div > div > div > section > div > div:nth-child(1) > div:nth-child(5) > div > div > div > div.st-bc.st-dj.st-dl.st-dm.st-dn.st-b4.st-co.st-do.st-bd.st-cc.st-cd.st-dp.st-db\")"
   ]
  },
  {
   "cell_type": "code",
   "execution_count": 205,
   "id": "3fcdcb99-7f6f-4cc8-8892-8bfd216586cf",
   "metadata": {},
   "outputs": [],
   "source": [
    "pain.click()"
   ]
  },
  {
   "cell_type": "code",
   "execution_count": 233,
   "id": "c0bdc6b4-a697-4caa-be3e-8c4c0f684ba2",
   "metadata": {},
   "outputs": [],
   "source": [
    "asymp = driver.find_element_by_xpath('/html/body/div/div[2]/div/div/div[3]/div/div/div/ul/div/div/li[3]')"
   ]
  },
  {
   "cell_type": "code",
   "execution_count": 234,
   "id": "babcaa41-3c45-4df3-9394-445d9f011950",
   "metadata": {},
   "outputs": [],
   "source": [
    "asymp.click()"
   ]
  },
  {
   "cell_type": "code",
   "execution_count": 235,
   "id": "bc63a5d0-e058-4639-8e0e-5dc02e49e817",
   "metadata": {},
   "outputs": [
    {
     "ename": "NoSuchElementException",
     "evalue": "Message: no such element: Unable to locate element: {\"method\":\"css selector\",\"selector\":\"#root > div:nth-child(1) > div > div > div > div > section > div > div:nth-child(1) > div:nth-child(6) > div > div.css-1nnn0hm.e1jwn65y0 > div.st-bc.st-b4.st-bd.st-b7.st-be.st-bf.st-bg.st-bh.st-bi.st-bj.st-bk.st-bl.st-bm.st-b2.st-bn.st-av.st-ay.st-bo.st-bp.st-ae.st-af.st-ag.st-ah.st-ai.st-aj.st-bq.st-br.st-bs.st-bt.st-bu.st-bv.st-bw > div > input\"}\n  (Session info: chrome=94.0.4606.71)\n",
     "output_type": "error",
     "traceback": [
      "\u001b[0;31m---------------------------------------------------------------------------\u001b[0m",
      "\u001b[0;31mNoSuchElementException\u001b[0m                    Traceback (most recent call last)",
      "\u001b[0;32m/tmp/ipykernel_272/1498384897.py\u001b[0m in \u001b[0;36m<module>\u001b[0;34m\u001b[0m\n\u001b[0;32m----> 1\u001b[0;31m \u001b[0mbp\u001b[0m \u001b[0;34m=\u001b[0m \u001b[0mdriver\u001b[0m\u001b[0;34m.\u001b[0m\u001b[0mfind_element_by_css_selector\u001b[0m\u001b[0;34m(\u001b[0m\u001b[0;34m\"#root > div:nth-child(1) > div > div > div > div > section > div > div:nth-child(1) > div:nth-child(6) > div > div.css-1nnn0hm.e1jwn65y0 > div.st-bc.st-b4.st-bd.st-b7.st-be.st-bf.st-bg.st-bh.st-bi.st-bj.st-bk.st-bl.st-bm.st-b2.st-bn.st-av.st-ay.st-bo.st-bp.st-ae.st-af.st-ag.st-ah.st-ai.st-aj.st-bq.st-br.st-bs.st-bt.st-bu.st-bv.st-bw > div > input\"\u001b[0m\u001b[0;34m)\u001b[0m\u001b[0;34m\u001b[0m\u001b[0;34m\u001b[0m\u001b[0m\n\u001b[0m",
      "\u001b[0;32m/usr/local/lib/python3.8/dist-packages/selenium/webdriver/remote/webdriver.py\u001b[0m in \u001b[0;36mfind_element_by_css_selector\u001b[0;34m(self, css_selector)\u001b[0m\n\u001b[1;32m    596\u001b[0m             \u001b[0melement\u001b[0m \u001b[0;34m=\u001b[0m \u001b[0mdriver\u001b[0m\u001b[0;34m.\u001b[0m\u001b[0mfind_element_by_css_selector\u001b[0m\u001b[0;34m(\u001b[0m\u001b[0;34m'#foo'\u001b[0m\u001b[0;34m)\u001b[0m\u001b[0;34m\u001b[0m\u001b[0;34m\u001b[0m\u001b[0m\n\u001b[1;32m    597\u001b[0m         \"\"\"\n\u001b[0;32m--> 598\u001b[0;31m         \u001b[0;32mreturn\u001b[0m \u001b[0mself\u001b[0m\u001b[0;34m.\u001b[0m\u001b[0mfind_element\u001b[0m\u001b[0;34m(\u001b[0m\u001b[0mby\u001b[0m\u001b[0;34m=\u001b[0m\u001b[0mBy\u001b[0m\u001b[0;34m.\u001b[0m\u001b[0mCSS_SELECTOR\u001b[0m\u001b[0;34m,\u001b[0m \u001b[0mvalue\u001b[0m\u001b[0;34m=\u001b[0m\u001b[0mcss_selector\u001b[0m\u001b[0;34m)\u001b[0m\u001b[0;34m\u001b[0m\u001b[0;34m\u001b[0m\u001b[0m\n\u001b[0m\u001b[1;32m    599\u001b[0m \u001b[0;34m\u001b[0m\u001b[0m\n\u001b[1;32m    600\u001b[0m     \u001b[0;32mdef\u001b[0m \u001b[0mfind_elements_by_css_selector\u001b[0m\u001b[0;34m(\u001b[0m\u001b[0mself\u001b[0m\u001b[0;34m,\u001b[0m \u001b[0mcss_selector\u001b[0m\u001b[0;34m)\u001b[0m\u001b[0;34m:\u001b[0m\u001b[0;34m\u001b[0m\u001b[0;34m\u001b[0m\u001b[0m\n",
      "\u001b[0;32m/usr/local/lib/python3.8/dist-packages/selenium/webdriver/remote/webdriver.py\u001b[0m in \u001b[0;36mfind_element\u001b[0;34m(self, by, value)\u001b[0m\n\u001b[1;32m    974\u001b[0m                 \u001b[0mby\u001b[0m \u001b[0;34m=\u001b[0m \u001b[0mBy\u001b[0m\u001b[0;34m.\u001b[0m\u001b[0mCSS_SELECTOR\u001b[0m\u001b[0;34m\u001b[0m\u001b[0;34m\u001b[0m\u001b[0m\n\u001b[1;32m    975\u001b[0m                 \u001b[0mvalue\u001b[0m \u001b[0;34m=\u001b[0m \u001b[0;34m'[name=\"%s\"]'\u001b[0m \u001b[0;34m%\u001b[0m \u001b[0mvalue\u001b[0m\u001b[0;34m\u001b[0m\u001b[0;34m\u001b[0m\u001b[0m\n\u001b[0;32m--> 976\u001b[0;31m         return self.execute(Command.FIND_ELEMENT, {\n\u001b[0m\u001b[1;32m    977\u001b[0m             \u001b[0;34m'using'\u001b[0m\u001b[0;34m:\u001b[0m \u001b[0mby\u001b[0m\u001b[0;34m,\u001b[0m\u001b[0;34m\u001b[0m\u001b[0;34m\u001b[0m\u001b[0m\n\u001b[1;32m    978\u001b[0m             'value': value})['value']\n",
      "\u001b[0;32m/usr/local/lib/python3.8/dist-packages/selenium/webdriver/remote/webdriver.py\u001b[0m in \u001b[0;36mexecute\u001b[0;34m(self, driver_command, params)\u001b[0m\n\u001b[1;32m    319\u001b[0m         \u001b[0mresponse\u001b[0m \u001b[0;34m=\u001b[0m \u001b[0mself\u001b[0m\u001b[0;34m.\u001b[0m\u001b[0mcommand_executor\u001b[0m\u001b[0;34m.\u001b[0m\u001b[0mexecute\u001b[0m\u001b[0;34m(\u001b[0m\u001b[0mdriver_command\u001b[0m\u001b[0;34m,\u001b[0m \u001b[0mparams\u001b[0m\u001b[0;34m)\u001b[0m\u001b[0;34m\u001b[0m\u001b[0;34m\u001b[0m\u001b[0m\n\u001b[1;32m    320\u001b[0m         \u001b[0;32mif\u001b[0m \u001b[0mresponse\u001b[0m\u001b[0;34m:\u001b[0m\u001b[0;34m\u001b[0m\u001b[0;34m\u001b[0m\u001b[0m\n\u001b[0;32m--> 321\u001b[0;31m             \u001b[0mself\u001b[0m\u001b[0;34m.\u001b[0m\u001b[0merror_handler\u001b[0m\u001b[0;34m.\u001b[0m\u001b[0mcheck_response\u001b[0m\u001b[0;34m(\u001b[0m\u001b[0mresponse\u001b[0m\u001b[0;34m)\u001b[0m\u001b[0;34m\u001b[0m\u001b[0;34m\u001b[0m\u001b[0m\n\u001b[0m\u001b[1;32m    322\u001b[0m             response['value'] = self._unwrap_value(\n\u001b[1;32m    323\u001b[0m                 response.get('value', None))\n",
      "\u001b[0;32m/usr/local/lib/python3.8/dist-packages/selenium/webdriver/remote/errorhandler.py\u001b[0m in \u001b[0;36mcheck_response\u001b[0;34m(self, response)\u001b[0m\n\u001b[1;32m    240\u001b[0m                 \u001b[0malert_text\u001b[0m \u001b[0;34m=\u001b[0m \u001b[0mvalue\u001b[0m\u001b[0;34m[\u001b[0m\u001b[0;34m'alert'\u001b[0m\u001b[0;34m]\u001b[0m\u001b[0;34m.\u001b[0m\u001b[0mget\u001b[0m\u001b[0;34m(\u001b[0m\u001b[0;34m'text'\u001b[0m\u001b[0;34m)\u001b[0m\u001b[0;34m\u001b[0m\u001b[0;34m\u001b[0m\u001b[0m\n\u001b[1;32m    241\u001b[0m             \u001b[0;32mraise\u001b[0m \u001b[0mexception_class\u001b[0m\u001b[0;34m(\u001b[0m\u001b[0mmessage\u001b[0m\u001b[0;34m,\u001b[0m \u001b[0mscreen\u001b[0m\u001b[0;34m,\u001b[0m \u001b[0mstacktrace\u001b[0m\u001b[0;34m,\u001b[0m \u001b[0malert_text\u001b[0m\u001b[0;34m)\u001b[0m\u001b[0;34m\u001b[0m\u001b[0;34m\u001b[0m\u001b[0m\n\u001b[0;32m--> 242\u001b[0;31m         \u001b[0;32mraise\u001b[0m \u001b[0mexception_class\u001b[0m\u001b[0;34m(\u001b[0m\u001b[0mmessage\u001b[0m\u001b[0;34m,\u001b[0m \u001b[0mscreen\u001b[0m\u001b[0;34m,\u001b[0m \u001b[0mstacktrace\u001b[0m\u001b[0;34m)\u001b[0m\u001b[0;34m\u001b[0m\u001b[0;34m\u001b[0m\u001b[0m\n\u001b[0m\u001b[1;32m    243\u001b[0m \u001b[0;34m\u001b[0m\u001b[0m\n\u001b[1;32m    244\u001b[0m     \u001b[0;32mdef\u001b[0m \u001b[0m_value_or_default\u001b[0m\u001b[0;34m(\u001b[0m\u001b[0mself\u001b[0m\u001b[0;34m,\u001b[0m \u001b[0mobj\u001b[0m\u001b[0;34m,\u001b[0m \u001b[0mkey\u001b[0m\u001b[0;34m,\u001b[0m \u001b[0mdefault\u001b[0m\u001b[0;34m)\u001b[0m\u001b[0;34m:\u001b[0m\u001b[0;34m\u001b[0m\u001b[0;34m\u001b[0m\u001b[0m\n",
      "\u001b[0;31mNoSuchElementException\u001b[0m: Message: no such element: Unable to locate element: {\"method\":\"css selector\",\"selector\":\"#root > div:nth-child(1) > div > div > div > div > section > div > div:nth-child(1) > div:nth-child(6) > div > div.css-1nnn0hm.e1jwn65y0 > div.st-bc.st-b4.st-bd.st-b7.st-be.st-bf.st-bg.st-bh.st-bi.st-bj.st-bk.st-bl.st-bm.st-b2.st-bn.st-av.st-ay.st-bo.st-bp.st-ae.st-af.st-ag.st-ah.st-ai.st-aj.st-bq.st-br.st-bs.st-bt.st-bu.st-bv.st-bw > div > input\"}\n  (Session info: chrome=94.0.4606.71)\n"
     ]
    }
   ],
   "source": [
    "bp = driver.find_element_by_css_selector(\"#root > div:nth-child(1) > div > div > div > div > section > div > div:nth-child(1) > div:nth-child(6) > div > div.css-1nnn0hm.e1jwn65y0 > div.st-bc.st-b4.st-bd.st-b7.st-be.st-bf.st-bg.st-bh.st-bi.st-bj.st-bk.st-bl.st-bm.st-b2.st-bn.st-av.st-ay.st-bo.st-bp.st-ae.st-af.st-ag.st-ah.st-ai.st-aj.st-bq.st-br.st-bs.st-bt.st-bu.st-bv.st-bw > div > input\")"
   ]
  },
  {
   "cell_type": "code",
   "execution_count": 236,
   "id": "fccfb669-f89b-4a92-ac37-0123bf442b0f",
   "metadata": {},
   "outputs": [],
   "source": [
    "bp.send_keys(142)"
   ]
  },
  {
   "cell_type": "code",
   "execution_count": 210,
   "id": "4e4355db-656e-423d-a1f0-fe4fd4631c19",
   "metadata": {},
   "outputs": [],
   "source": [
    "chol = driver.find_element_by_css_selector(\"#root > div:nth-child(1) > div > div > div > div > section > div > div:nth-child(1) > div:nth-child(7) > div > div.css-1nnn0hm.e1jwn65y0 > div.st-bc.st-b4.st-bd.st-b7.st-be.st-bf.st-bg.st-bh.st-bi.st-bj.st-bk.st-bl.st-bm.st-b2.st-bn.st-av.st-ay.st-bo.st-bp.st-ae.st-af.st-ag.st-ah.st-ai.st-aj.st-bq.st-br.st-bs.st-bt.st-bu.st-bv.st-bw > div > input\")"
   ]
  },
  {
   "cell_type": "code",
   "execution_count": 237,
   "id": "422d6394-b4d8-4d4d-b615-b16ddc46acb8",
   "metadata": {},
   "outputs": [],
   "source": [
    "chol.send_keys(177)"
   ]
  },
  {
   "cell_type": "code",
   "execution_count": 212,
   "id": "333a832c-54cf-45ec-bdd5-3edf113d59af",
   "metadata": {},
   "outputs": [],
   "source": [
    "bs = driver.find_element_by_css_selector(\"#root > div:nth-child(1) > div > div > div > div > section > div > div:nth-child(1) > div:nth-child(8) > div > div > label:nth-child(2) > div.st-co.st-df.st-ct.st-cu.st-cv.st-cw.st-az.st-b4.st-cx.st-cy.st-cz.st-d0.st-d1.st-d2.st-c8.st-d3.st-d4.st-d5.st-b2.st-bn > div\")"
   ]
  },
  {
   "cell_type": "code",
   "execution_count": 213,
   "id": "3520f384-a4c3-4c92-8813-f321e328aca5",
   "metadata": {},
   "outputs": [],
   "source": [
    "bs.click()"
   ]
  },
  {
   "cell_type": "code",
   "execution_count": 238,
   "id": "f2e6efe9-bfe6-40c7-9c35-c783eb6ab685",
   "metadata": {},
   "outputs": [],
   "source": [
    "ecg = driver.find_element_by_css_selector(\"#root > div:nth-child(1) > div > div > div > div > section > div > div:nth-child(1) > div:nth-child(11) > div > div > label:nth-child(1) > div.st-co.st-df.st-ct.st-cu.st-cv.st-cw.st-az.st-b4.st-cx.st-cy.st-cz.st-d0.st-d1.st-d2.st-c8.st-d3.st-d4.st-d5.st-b2.st-bn > div\")"
   ]
  },
  {
   "cell_type": "code",
   "execution_count": 239,
   "id": "ab6ed944-8ad4-41f8-bd11-22ecd66ee15f",
   "metadata": {},
   "outputs": [],
   "source": [
    "ecg.click()"
   ]
  },
  {
   "cell_type": "code",
   "execution_count": 216,
   "id": "4511e371-0ce1-45f6-81b4-51b8f09ee7a3",
   "metadata": {},
   "outputs": [],
   "source": [
    "hyperventry = driver.find_element_by_xpath('/html/body/div/div[2]/div/div/div[3]/div/div/div/ul/div/div/li[3]')"
   ]
  },
  {
   "cell_type": "code",
   "execution_count": 217,
   "id": "26d90036-3c4b-468d-adfc-9b469493ea8a",
   "metadata": {},
   "outputs": [],
   "source": [
    "hyperventry.click()"
   ]
  },
  {
   "cell_type": "code",
   "execution_count": 218,
   "id": "731b50a4-d2ed-4973-a7f0-b90f730c9562",
   "metadata": {},
   "outputs": [],
   "source": [
    "hr = driver.find_element_by_css_selector(\"#root > div:nth-child(1) > div > div > div > div > section > div > div:nth-child(1) > div:nth-child(10) > div > div.css-1nnn0hm.e1jwn65y0 > div.st-bc.st-b4.st-bd.st-b7.st-be.st-bf.st-bg.st-bh.st-bi.st-bj.st-bk.st-bl.st-bm.st-b2.st-bn.st-av.st-ay.st-bo.st-bp.st-ae.st-af.st-ag.st-ah.st-ai.st-aj.st-bq.st-br.st-bs.st-bt.st-bu.st-bv.st-bw > div > input\")"
   ]
  },
  {
   "cell_type": "code",
   "execution_count": 219,
   "id": "91d043cf-c974-495c-bae7-ecdb90a424c6",
   "metadata": {},
   "outputs": [],
   "source": [
    "hr.send_keys(162)"
   ]
  },
  {
   "cell_type": "code",
   "execution_count": 220,
   "id": "68ae1cc8-a010-47e3-b422-8dd18445bc68",
   "metadata": {},
   "outputs": [],
   "source": [
    "exang = driver.find_element_by_css_selector(\"#root > div:nth-child(1) > div > div > div > div > section > div > div:nth-child(1) > div:nth-child(11) > div > div > label:nth-child(2) > div.st-co.st-df.st-ct.st-cu.st-cv.st-cw.st-az.st-b4.st-cx.st-cy.st-cz.st-d0.st-d1.st-d2.st-c8.st-d3.st-d4.st-d5.st-b2.st-bn > div\")"
   ]
  },
  {
   "cell_type": "code",
   "execution_count": 221,
   "id": "1100dd71-d4b3-4771-97cb-7864be0495d5",
   "metadata": {},
   "outputs": [],
   "source": [
    "exang.click()"
   ]
  },
  {
   "cell_type": "code",
   "execution_count": 222,
   "id": "265aa452-ee5f-426d-aba2-69189f42a0f1",
   "metadata": {},
   "outputs": [],
   "source": [
    "old = driver.find_element_by_css_selector(\"#root > div:nth-child(1) > div > div > div > div > section > div > div:nth-child(1) > div:nth-child(12) > div > div.css-1nnn0hm.e1jwn65y0 > div.st-bc.st-b4.st-bd.st-b7.st-be.st-bf.st-bg.st-bh.st-bi.st-bj.st-bk.st-bl.st-bm.st-b2.st-bn.st-av.st-ay.st-bo.st-bp.st-ae.st-af.st-ag.st-ah.st-ai.st-aj.st-bq.st-br.st-bs.st-bt.st-bu.st-bv.st-bw > div > input\")"
   ]
  },
  {
   "cell_type": "code",
   "execution_count": 240,
   "id": "8602a4b0-95b0-4aa3-a9fd-3562b14e8c11",
   "metadata": {},
   "outputs": [],
   "source": [
    "old.click()"
   ]
  },
  {
   "cell_type": "code",
   "execution_count": 241,
   "id": "429f38b6-6b34-415e-a616-18d131fbca92",
   "metadata": {},
   "outputs": [],
   "source": [
    "old.send_keys(Keys.HOME)"
   ]
  },
  {
   "cell_type": "code",
   "execution_count": 242,
   "id": "81c58281-07b1-4435-a7a0-2f072c700fb6",
   "metadata": {},
   "outputs": [],
   "source": [
    "for x in range(6):\n",
    "    old.send_keys(Keys.DELETE)"
   ]
  },
  {
   "cell_type": "code",
   "execution_count": 243,
   "id": "1c20ef35-3a62-4bcc-8e51-9f5eadf193f6",
   "metadata": {},
   "outputs": [],
   "source": [
    "old.send_keys('1.4')"
   ]
  },
  {
   "cell_type": "code",
   "execution_count": 227,
   "id": "7ff3a8eb-4542-49c3-b521-b8abf108ea66",
   "metadata": {},
   "outputs": [],
   "source": [
    "slope = driver.find_element_by_css_selector(\"#root > div:nth-child(1) > div > div > div > div > section > div > div:nth-child(1) > div:nth-child(13) > div > div > div > div.st-bc.st-dj.st-dl.st-dm.st-dn.st-b4.st-co.st-do.st-bd.st-cc.st-cd.st-dp.st-db\")"
   ]
  },
  {
   "cell_type": "code",
   "execution_count": 228,
   "id": "c43b1fb0-b254-4ace-a49b-b9c4d356c257",
   "metadata": {},
   "outputs": [],
   "source": [
    "slope.click()"
   ]
  },
  {
   "cell_type": "code",
   "execution_count": 244,
   "id": "07d6291d-e73e-4e63-b132-e99dbdea812c",
   "metadata": {},
   "outputs": [],
   "source": [
    "plana = driver.find_element_by_xpath('/html/body/div/div[2]/div/div/div[3]/div/div/div/ul/div/div/li[3]')"
   ]
  },
  {
   "cell_type": "code",
   "execution_count": 245,
   "id": "49a757bf-f8f1-47d9-bacc-14071ee11feb",
   "metadata": {},
   "outputs": [],
   "source": [
    "plana.click()"
   ]
  },
  {
   "cell_type": "code",
   "execution_count": null,
   "id": "e6fa315e-6d4e-4e6b-9927-7ef16e24d04d",
   "metadata": {},
   "outputs": [],
   "source": []
  }
 ],
 "metadata": {
  "kernelspec": {
   "display_name": "ironhack",
   "language": "python",
   "name": "ironhack"
  },
  "language_info": {
   "codemirror_mode": {
    "name": "ipython",
    "version": 3
   },
   "file_extension": ".py",
   "mimetype": "text/x-python",
   "name": "python",
   "nbconvert_exporter": "python",
   "pygments_lexer": "ipython3",
   "version": "3.8.10"
  }
 },
 "nbformat": 4,
 "nbformat_minor": 5
}
